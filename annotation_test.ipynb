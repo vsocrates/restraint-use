{
 "cells": [
  {
   "cell_type": "code",
   "execution_count": 26,
   "metadata": {},
   "outputs": [],
   "source": [
    "import pandas as pd\n",
    "import jsonlines\n",
    "import glob, os"
   ]
  },
  {
   "cell_type": "code",
   "execution_count": 12,
   "metadata": {},
   "outputs": [],
   "source": [
    "demo = []\n",
    "present = []\n",
    "treatment = []\n",
    "staff = []\n",
    "\n",
    "with jsonlines.open(\"annotations/incar_status_demo_TEST-dg937.jsonl\") as reader:\n",
    "    for line in reader:\n",
    "        entry = {}\n",
    "        entry['id'] = line['_input_hash']\n",
    "        entry['text'] = line['text']\n",
    "        demo.append(entry)\n",
    "\n",
    "with jsonlines.open(\"annotations/incar_status_present_TEST-dg937.jsonl\") as reader:\n",
    "    for line in reader:\n",
    "        entry = {}\n",
    "        entry['id'] = line['_input_hash']\n",
    "        entry['text'] = line['text']\n",
    "        present.append(entry)\n",
    "\n",
    "with jsonlines.open(\"annotations/incar_status_treatment_TEST-dg937.jsonl\") as reader:\n",
    "    for line in reader:\n",
    "        entry = {}\n",
    "        entry['id'] = line['_input_hash']\n",
    "        entry['text'] = line['text']\n",
    "        treatment.append(entry)\n",
    "\n",
    "with jsonlines.open(\"annotations/incar_status_staff_TEST-dg937.jsonl\") as reader:\n",
    "    for line in reader:\n",
    "        entry = {}\n",
    "        entry['id'] = line['_input_hash']\n",
    "        entry['text'] = line['text']\n",
    "        staff.append(entry)\n",
    "        "
   ]
  },
  {
   "cell_type": "code",
   "execution_count": 14,
   "metadata": {},
   "outputs": [],
   "source": [
    "def find(lst, key, value):\n",
    "    for i, dic in enumerate(lst):\n",
    "        if dic[key] == value:\n",
    "            return i\n",
    "    return -1"
   ]
  },
  {
   "cell_type": "code",
   "execution_count": 23,
   "metadata": {},
   "outputs": [],
   "source": [
    "\n",
    "# id, text, annotation by annotator (column for each)\n",
    "\n",
    "for file in glob.glob(\"annotations/incar_status_demo_TEST-*\"):\n",
    "    name = file[file.rfind(\"-\") + 1:-6]\n",
    "    with jsonlines.open(file) as reader:\n",
    "        for line in reader:\n",
    "            idx = find(demo, \"id\", line['_input_hash'])\n",
    "            demo[idx][name] = line['accept']\n",
    "            \n",
    "\n",
    "for file in glob.glob(\"annotations/incar_status_present_TEST-*\"):\n",
    "    name = file[file.rfind(\"-\") + 1:-6]\n",
    "    with jsonlines.open(file) as reader:\n",
    "        for line in reader:\n",
    "            idx = find(demo, \"id\", line['_input_hash'])\n",
    "            present[idx][name] = line['accept']\n",
    "\n",
    "for file in glob.glob(\"annotations/incar_status_treatment_TEST-*\"):\n",
    "    name = file[file.rfind(\"-\") + 1:-6]\n",
    "    with jsonlines.open(file) as reader:\n",
    "        for line in reader:\n",
    "            idx = find(demo, \"id\", line['_input_hash'])\n",
    "            treatment[idx][name] = line['accept']\n",
    "\n",
    "for file in glob.glob(\"annotations/incar_status_staff_TEST-*\"):\n",
    "    name = file[file.rfind(\"-\") + 1:-6]\n",
    "    with jsonlines.open(file) as reader:\n",
    "        for line in reader:\n",
    "            idx = find(demo, \"id\", line['_input_hash'])\n",
    "            staff[idx][name] = line['accept']\n"
   ]
  },
  {
   "cell_type": "code",
   "execution_count": 31,
   "metadata": {},
   "outputs": [],
   "source": [
    "pd.DataFrame.from_records(staff).fillna(\"N/A\").to_csv(\"staff_initial_annotations.csv\", index=False)\n",
    "pd.DataFrame.from_records(demo).fillna(\"N/A\").to_csv(\"demos_initial_annotations.csv\", index=False)\n",
    "pd.DataFrame.from_records(treatment).fillna(\"N/A\").to_csv(\"treatment_initial_annotations.csv\", index=False)\n",
    "pd.DataFrame.from_records(present).fillna(\"N/A\").to_csv(\"presentation_initial_annotations.csv\", index=False)"
   ]
  },
  {
   "attachments": {},
   "cell_type": "markdown",
   "metadata": {},
   "source": [
    "# Read in Comments"
   ]
  },
  {
   "cell_type": "code",
   "execution_count": 39,
   "metadata": {},
   "outputs": [],
   "source": [
    "import jsonlines"
   ]
  },
  {
   "cell_type": "code",
   "execution_count": 40,
   "metadata": {},
   "outputs": [],
   "source": [
    "demos = []\n",
    "x = []\n",
    "all_lines = []\n",
    "with jsonlines.open(\"annotations/incar_status_demo_TEST-cws44.jsonl\") as reader:\n",
    "    for line in reader:\n",
    "        entry = {}\n",
    "        entry['id'] = line['_input_hash']\n",
    "        entry['text'] = line['text']\n",
    "        if \"user_input\" in line.keys():\n",
    "            entry['comments'] = line['user_input']\n",
    "        else:\n",
    "            entry['comments'] = \"\"\n",
    "        demos.append(entry)\n"
   ]
  },
  {
   "cell_type": "code",
   "execution_count": null,
   "metadata": {},
   "outputs": [],
   "source": [
    "\n",
    "# id, text, annotation by annotator (column for each)\n",
    "\n",
    "for file in glob.glob(\"annotations/incar_status_demo_TEST-*\"):\n",
    "    name = file[file.rfind(\"-\") + 1:-6]\n",
    "    with jsonlines.open(file) as reader:\n",
    "        for line in reader:\n",
    "            idx = find(demo, \"id\", line['_input_hash'])\n",
    "            demo[idx][name] = line['accept']\n",
    "\n",
    "for file in glob.glob(\"annotations/incar_status_present_TEST-*\"):\n",
    "    name = file[file.rfind(\"-\") + 1:-6]\n",
    "    with jsonlines.open(file) as reader:\n",
    "        for line in reader:\n",
    "            idx = find(demo, \"id\", line['_input_hash'])\n",
    "            present[idx][name] = line['accept']\n",
    "\n",
    "for file in glob.glob(\"annotations/incar_status_treatment_TEST-*\"):\n",
    "    name = file[file.rfind(\"-\") + 1:-6]\n",
    "    with jsonlines.open(file) as reader:\n",
    "        for line in reader:\n",
    "            idx = find(demo, \"id\", line['_input_hash'])\n",
    "            treatment[idx][name] = line['accept']\n",
    "\n",
    "for file in glob.glob(\"annotations/incar_status_staff_TEST-*\"):\n",
    "    name = file[file.rfind(\"-\") + 1:-6]\n",
    "    with jsonlines.open(file) as reader:\n",
    "        for line in reader:\n",
    "            idx = find(demo, \"id\", line['_input_hash'])\n",
    "            staff[idx][name] = line['accept']\n"
   ]
  }
 ],
 "metadata": {
  "kernelspec": {
   "display_name": "vc",
   "language": "python",
   "name": "python3"
  },
  "language_info": {
   "codemirror_mode": {
    "name": "ipython",
    "version": 3
   },
   "file_extension": ".py",
   "mimetype": "text/x-python",
   "name": "python",
   "nbconvert_exporter": "python",
   "pygments_lexer": "ipython3",
   "version": "3.10.6"
  },
  "orig_nbformat": 4,
  "vscode": {
   "interpreter": {
    "hash": "5579a53a1c8f49fc20ddbadf8048037fa42713d5acfa96b1834c25c850c07d7a"
   }
  }
 },
 "nbformat": 4,
 "nbformat_minor": 2
}
